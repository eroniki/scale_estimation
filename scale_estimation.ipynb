{
 "cells": [
  {
   "cell_type": "code",
   "execution_count": 1,
   "metadata": {},
   "outputs": [],
   "source": [
    "from __future__ import division\n",
    "import numpy as np\n",
    "import matplotlib.pyplot as plt\n",
    "from matplotlib.patches import Ellipse\n",
    "%matplotlib inline"
   ]
  },
  {
   "cell_type": "code",
   "execution_count": 117,
   "metadata": {},
   "outputs": [],
   "source": [
    "def plot_translations(t_gt, t_imu, t_vo_normed, scaler, folder=\"figures/raw/\", filename=\"translation_gt\"):\n",
    "    xmin, ymin = np.min(t_gt, axis=0)\n",
    "    xmax, ymax = np.max(t_gt, axis=0)\n",
    "    \n",
    "    t_imu_mu = t_imu[0]\n",
    "    t_imu_cov = t_imu[1]\n",
    "    \n",
    "    for i, t_gt_i in enumerate(t_gt):\n",
    "        fname = folder + filename + \"_\" + str(i)\n",
    "        plot_translation(t_gt_i, t_imu_mu[i], t_imu_cov[i, :, :], t_vo_normed[i, :], scaler[ii], filename=fname, xmin=xmin, ymin=ymin, xmax=xmax, ymax=ymax)\n",
    "\n",
    "def plot_translation(t_gt, t_imu_mu, t_imu_cov, t_vo, scaler, filename, xmin, xmax, ymin, ymax):\n",
    "    ellipse = plot_ellipse(t_imu_mu, t_imu_cov)\n",
    "\n",
    "    f, ax = plt.subplots()\n",
    "    ax.add_patch(ellipse)\n",
    "    gt = ax.arrow(0, 0, t_gt[0], t_gt[1], head_width=0.05, head_length=0.1, fc='k', ec='k', label=\"gt\")\n",
    "#     vo_n= ax.arrow(0, 0, t_vo[0], t_vo[1], head_width=0.05, head_length=0.1, fc='g', ec='g', label=\"vo_n\")\n",
    "    vo = ax.arrow(0, 0, t_vo[0]*scaler[0], t_vo[1]*scaler[0], head_width=0.05, head_length=0.1, fc='r', ec='r', label=\"vo\")\n",
    "    \n",
    "    ax.scatter(t_imu_mu[0], t_imu_mu[1])\n",
    "    ellipse.set_clip_box(ax.bbox)\n",
    "    ax.grid(which=\"both\")\n",
    "#     ax.minorticks_on()\n",
    "    ax.legend()\n",
    "#     ax.axis('equal')\n",
    "    ax.set_xlim([0, 1.5])\n",
    "    ax.set_ylim([0, .8])\n",
    "\n",
    "    f.savefig(fname=filename)\n",
    "    plt.close(f)\n",
    "    \n",
    "def plot_ellipse(t_imu_mu, t_imu_cov):\n",
    "    nstd = 2\n",
    "    lambda_, v = eigen(t_imu_cov)\n",
    "    theta = np.degrees(np.arctan2(*v[:,0][::-1]))\n",
    "    w, h = 2 * nstd * np.sqrt(lambda_)\n",
    "    \n",
    "    ell = Ellipse(xy=t_imu_mu,\n",
    "                  width=w, height=h,\n",
    "                  angle=theta, edgecolor=\"blue\", label=\"imu\")\n",
    "    \n",
    "    ell.set_facecolor('none')\n",
    "    return ell \n",
    "\n",
    "    \n",
    "def plot_ellipse2(t_imu_mu, t_imu_cov):\n",
    "    nstd = 2\n",
    "    lambda_, v = eigen(t_imu_cov)\n",
    "    theta = np.degrees(np.arctan2(*v[:,0][::-1]))\n",
    "    w, h = 2 * nstd * np.sqrt(lambda_)\n",
    "    \n",
    "    ell = Ellipse(xy=t_imu_mu,\n",
    "                  width=w, height=h,\n",
    "                  angle=theta, edgecolor=\"blue\", label=\"_imu\")\n",
    "    \n",
    "    ell.set_facecolor('none')\n",
    "    return ell \n",
    "        \n",
    "def eigen(cov):\n",
    "    lambda_, v = eigsorted(cov)\n",
    "    lambda_ = np.sqrt(lambda_)\n",
    "    return lambda_, v\n",
    "\n",
    "def eigsorted(cov):\n",
    "    vals, vecs = np.linalg.eigh(cov)\n",
    "    order = vals.argsort()[::-1]\n",
    "    return vals[order], vecs[:,order]\n",
    "\n",
    "def mahal_dist(XA, XB):\n",
    "    from scipy.spatial import distance\n",
    "    d = distance.mahalanobis(XA, np.mean(XB, axis=0), np.linalg.inv(np.cov(XB.T)))\n",
    "    return d\n",
    "\n",
    "def mahal_dist2(XA, mean, icov):\n",
    "    from scipy.spatial import distance\n",
    "    d = distance.mahalanobis(XA, mean, icov)\n",
    "    return d\n",
    "\n",
    "def cost(lambda_, X):\n",
    "    XA = X[0]\n",
    "    XB = X[1]\n",
    "    return mahal_dist(XA*lambda_, XB)\n",
    "\n",
    "def cost2(lambda_, X):\n",
    "    XA = X[0]\n",
    "    mean = X[1]\n",
    "    icov = X[2]\n",
    "    return mahal_dist2(XA*lambda_, mean, icov)\n",
    "\n",
    "def calculate_scaler(t_vo, t_gt):\n",
    "    from scipy.optimize import minimize\n",
    "    bnds = (0, None)\n",
    "    res = minimize(cost, 1, [t_vo, t_gt])\n",
    "    return res\n",
    "\n",
    "def calculate_scaler2(t_vo, mu, sigma):\n",
    "    from scipy.optimize import minimize\n",
    "    bnds = (0, None)\n",
    "    res = minimize(cost2, 1, [t_vo, mu, sigma])\n",
    "    return res"
   ]
  },
  {
   "cell_type": "code",
   "execution_count": 118,
   "metadata": {},
   "outputs": [],
   "source": [
    "np.random.seed(9)\n",
    "car_velocity = np.array([1, 0]) # m/s\n",
    "f_sampling = 50\n",
    "n_trials = 20\n",
    "t_gt_x = np.random.rand(n_trials, 1)+car_velocity[0]/f_sampling\n",
    "t_gt_y = np.random.rand(n_trials, 1)/5+car_velocity[1]/f_sampling\n",
    "t_gt = np.hstack([t_gt_x, t_gt_y])\n",
    "\n",
    "t_imu_mu_x = t_gt_x + np.random.rand(n_trials, 1)*.05\n",
    "t_imu_mu_y = t_gt_y + np.random.rand(n_trials, 1)*.05\n",
    "t_imu_mu = np.hstack([t_imu_mu_x, t_imu_mu_y])\n",
    "t_imu_cov = np.zeros((n_trials, 2, 2), dtype=np.float64)\n",
    "\n",
    "t_vo = t_gt + np.random.rand(n_trials, 2)/50\n",
    "t_vo_normed = t_vo/np.linalg.norm(t_vo, axis=1).reshape(-1, 1)\n",
    "\n",
    "scaler = np.zeros((n_trials, 1), dtype=np.float64)\n",
    "\n",
    "for ii in range(n_trials):\n",
    "    t_imu_cov[ii, :, :] = np.array([[1,0.4],[0.4,.3]]) * np.float64((ii+1)**2)/500000\n",
    "    res2 = calculate_scaler2(t_vo_normed[ii, :], t_imu_mu[ii, :].reshape(-1, 1), np.linalg.inv(t_imu_cov[ii, :, :]))\n",
    "    scaler[ii] = res2.x\n",
    "    \n",
    "t_imu = (t_imu_mu, t_imu_cov)\n",
    "\n",
    "plot_translations(t_gt, t_imu=t_imu, t_vo_normed=t_vo_normed, scaler=scaler)"
   ]
  },
  {
   "cell_type": "code",
   "execution_count": 119,
   "metadata": {},
   "outputs": [],
   "source": [
    "e = t_gt - (t_vo_normed*scaler)"
   ]
  },
  {
   "cell_type": "code",
   "execution_count": 120,
   "metadata": {},
   "outputs": [
    {
     "data": {
      "text/plain": [
       "array([0.02865221, 0.02941222, 0.00829479, 0.02360214, 0.06073508,\n",
       "       0.00500132, 0.03929991, 0.02707107, 0.02723189, 0.02032133,\n",
       "       0.04505409, 0.02596957, 0.01906302, 0.01600002, 0.01129438,\n",
       "       0.01326046, 0.05240401, 0.01509872, 0.01345992, 0.02082829])"
      ]
     },
     "execution_count": 120,
     "metadata": {},
     "output_type": "execute_result"
    }
   ],
   "source": [
    "np.linalg.norm(e, axis=1)"
   ]
  },
  {
   "cell_type": "code",
   "execution_count": 121,
   "metadata": {},
   "outputs": [
    {
     "data": {
      "text/plain": [
       "0.02510272253669486"
      ]
     },
     "execution_count": 121,
     "metadata": {},
     "output_type": "execute_result"
    }
   ],
   "source": [
    "np.mean(np.linalg.norm(e, axis=1))"
   ]
  },
  {
   "cell_type": "code",
   "execution_count": 122,
   "metadata": {},
   "outputs": [],
   "source": [
    "odom_gt = np.cumsum(t_gt, axis=0)\n",
    "odom_imu = np.cumsum(t_imu_mu, axis=0)\n",
    "odom_vo = np.cumsum(t_vo_normed*scaler, axis=0)"
   ]
  },
  {
   "cell_type": "code",
   "execution_count": 126,
   "metadata": {},
   "outputs": [
    {
     "data": {
      "image/png": "[encoded data removed]",
      "text/plain": [
       "<Figure size 864x432 with 1 Axes>"
      ]
     },
     "metadata": {},
     "output_type": "display_data"
    }
   ],
   "source": [
    "f, ax = plt.subplots(1, 1)\n",
    "f.set_figheight(6)\n",
    "f.set_figwidth(12)\n",
    "ax.plot(odom_gt[:, 0], odom_gt[:, 1], label=\"ground truth\", color=\"red\", linestyle=\"-.\")\n",
    "ax.scatter(odom_gt[:, 0], odom_gt[:, 1], label=\"_ground truth\", color=\"red\")\n",
    "\n",
    "ax.plot(odom_imu[:, 0], odom_imu[:, 1], label=\"imu\", color=\"blue\", linestyle=\"-.\")\n",
    "ax.scatter(odom_imu[:, 0], odom_imu[:, 1], label=\"_imu\", color=\"blue\")\n",
    "\n",
    "ax.plot(odom_vo[:, 0], odom_vo[:, 1], label=\"vo\", color=\"green\", linestyle=\"-.\")\n",
    "ax.scatter(odom_vo[:, 0], odom_vo[:, 1], label=\"_vo\", color=\"green\")\n",
    "\n",
    "for i in range(n_trials):\n",
    "    ellipse = plot_ellipse2(odom_imu[i, :], t_imu_cov[i, :])\n",
    "    ax.add_patch(ellipse)\n",
    "    ellipse.set_clip_box(ax.bbox)\n",
    "plt.legend()\n",
    "plt.minorticks_on()\n",
    "\n",
    "\n",
    "plt.grid(which=\"both\")\n",
    "plt.axis('equal')\n",
    "plt.xlabel(\"x [m]\")\n",
    "plt.ylabel(\"y [m]\")\n",
    "plt.title(\"Visual Odometry vs Inertial Odometry\")\n",
    "plt.savefig(fname=\"figures/odom\")"
   ]
  },
  {
   "cell_type": "code",
   "execution_count": null,
   "metadata": {},
   "outputs": [],
   "source": []
  }
 ],
 "metadata": {
  "kernelspec": {
   "display_name": "Python 2",
   "language": "python",
   "name": "python2"
  },
  "language_info": {
   "codemirror_mode": {
    "name": "ipython",
    "version": 2
   },
   "file_extension": ".py",
   "mimetype": "text/x-python",
   "name": "python",
   "nbconvert_exporter": "python",
   "pygments_lexer": "ipython2",
   "version": "2.7.12"
  }
 },
 "nbformat": 4,
 "nbformat_minor": 2
}
